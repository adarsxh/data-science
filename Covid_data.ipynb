{
 "cells": [
  {
   "cell_type": "code",
   "execution_count": 38,
   "metadata": {},
   "outputs": [],
   "source": [
    "import pandas as pd\n",
    "import numpy as np\n",
    "import seaborn as sns\n",
    "import matplotlib.pyplot as plt"
   ]
  },
  {
   "cell_type": "code",
   "execution_count": 39,
   "metadata": {},
   "outputs": [
    {
     "data": {
      "text/html": [
       "<div>\n",
       "<style scoped>\n",
       "    .dataframe tbody tr th:only-of-type {\n",
       "        vertical-align: middle;\n",
       "    }\n",
       "\n",
       "    .dataframe tbody tr th {\n",
       "        vertical-align: top;\n",
       "    }\n",
       "\n",
       "    .dataframe thead th {\n",
       "        text-align: right;\n",
       "    }\n",
       "</style>\n",
       "<table border=\"1\" class=\"dataframe\">\n",
       "  <thead>\n",
       "    <tr style=\"text-align: right;\">\n",
       "      <th></th>\n",
       "      <th>HRR</th>\n",
       "      <th>Total Hospital Beds</th>\n",
       "      <th>Total ICU Beds</th>\n",
       "      <th>Available Hospital Beds</th>\n",
       "      <th>Potentially Available Hospital Beds</th>\n",
       "      <th>Available ICU Beds</th>\n",
       "      <th>Potentially Available ICU Beds</th>\n",
       "      <th>Adult Population</th>\n",
       "      <th>Population 65+</th>\n",
       "      <th>Projected Infected Individuals</th>\n",
       "      <th>Projected Hospitalized Individuals</th>\n",
       "      <th>Projected Individuals Needing ICU Care</th>\n",
       "    </tr>\n",
       "  </thead>\n",
       "  <tbody>\n",
       "    <tr>\n",
       "      <th>0</th>\n",
       "      <td>Abilene, TX</td>\n",
       "      <td>980.0</td>\n",
       "      <td>127.0</td>\n",
       "      <td>565.0</td>\n",
       "      <td>772.0</td>\n",
       "      <td>68.0</td>\n",
       "      <td>98.0</td>\n",
       "      <td>226444.0</td>\n",
       "      <td>50412.0</td>\n",
       "      <td>45289.0</td>\n",
       "      <td>9563.0</td>\n",
       "      <td>2090.0</td>\n",
       "    </tr>\n",
       "    <tr>\n",
       "      <th>1</th>\n",
       "      <td>Akron, OH</td>\n",
       "      <td>1358.0</td>\n",
       "      <td>186.0</td>\n",
       "      <td>518.0</td>\n",
       "      <td>938.0</td>\n",
       "      <td>94.0</td>\n",
       "      <td>140.0</td>\n",
       "      <td>547990.0</td>\n",
       "      <td>111042.0</td>\n",
       "      <td>109598.0</td>\n",
       "      <td>22933.0</td>\n",
       "      <td>4959.0</td>\n",
       "    </tr>\n",
       "    <tr>\n",
       "      <th>2</th>\n",
       "      <td>Alameda County, CA</td>\n",
       "      <td>2695.0</td>\n",
       "      <td>293.0</td>\n",
       "      <td>665.0</td>\n",
       "      <td>1680.0</td>\n",
       "      <td>139.0</td>\n",
       "      <td>216.0</td>\n",
       "      <td>1310189.0</td>\n",
       "      <td>214991.0</td>\n",
       "      <td>262038.0</td>\n",
       "      <td>53872.0</td>\n",
       "      <td>11400.0</td>\n",
       "    </tr>\n",
       "    <tr>\n",
       "      <th>3</th>\n",
       "      <td>Albany, GA</td>\n",
       "      <td>704.0</td>\n",
       "      <td>60.0</td>\n",
       "      <td>221.0</td>\n",
       "      <td>462.0</td>\n",
       "      <td>27.0</td>\n",
       "      <td>43.0</td>\n",
       "      <td>157143.0</td>\n",
       "      <td>30466.0</td>\n",
       "      <td>31429.0</td>\n",
       "      <td>6550.0</td>\n",
       "      <td>1410.0</td>\n",
       "    </tr>\n",
       "    <tr>\n",
       "      <th>4</th>\n",
       "      <td>Albany, NY</td>\n",
       "      <td>4804.0</td>\n",
       "      <td>425.0</td>\n",
       "      <td>1579.0</td>\n",
       "      <td>3191.0</td>\n",
       "      <td>193.0</td>\n",
       "      <td>309.0</td>\n",
       "      <td>1477723.0</td>\n",
       "      <td>318695.0</td>\n",
       "      <td>295545.0</td>\n",
       "      <td>62209.0</td>\n",
       "      <td>13545.0</td>\n",
       "    </tr>\n",
       "  </tbody>\n",
       "</table>\n",
       "</div>"
      ],
      "text/plain": [
       "                  HRR  Total Hospital Beds  Total ICU Beds  \\\n",
       "0         Abilene, TX                980.0           127.0   \n",
       "1           Akron, OH               1358.0           186.0   \n",
       "2  Alameda County, CA               2695.0           293.0   \n",
       "3          Albany, GA                704.0            60.0   \n",
       "4          Albany, NY               4804.0           425.0   \n",
       "\n",
       "   Available Hospital Beds  Potentially Available Hospital Beds  \\\n",
       "0                    565.0                                772.0   \n",
       "1                    518.0                                938.0   \n",
       "2                    665.0                               1680.0   \n",
       "3                    221.0                                462.0   \n",
       "4                   1579.0                               3191.0   \n",
       "\n",
       "   Available ICU Beds  Potentially Available ICU Beds  Adult Population  \\\n",
       "0                68.0                            98.0          226444.0   \n",
       "1                94.0                           140.0          547990.0   \n",
       "2               139.0                           216.0         1310189.0   \n",
       "3                27.0                            43.0          157143.0   \n",
       "4               193.0                           309.0         1477723.0   \n",
       "\n",
       "   Population 65+  Projected Infected Individuals  \\\n",
       "0         50412.0                         45289.0   \n",
       "1        111042.0                        109598.0   \n",
       "2        214991.0                        262038.0   \n",
       "3         30466.0                         31429.0   \n",
       "4        318695.0                        295545.0   \n",
       "\n",
       "   Projected Hospitalized Individuals  Projected Individuals Needing ICU Care  \n",
       "0                              9563.0                                  2090.0  \n",
       "1                             22933.0                                  4959.0  \n",
       "2                             53872.0                                 11400.0  \n",
       "3                              6550.0                                  1410.0  \n",
       "4                             62209.0                                 13545.0  "
      ]
     },
     "execution_count": 39,
     "metadata": {},
     "output_type": "execute_result"
    }
   ],
   "source": [
    "df = pd.read_csv('covid_data.csv')\n",
    "df.head()"
   ]
  },
  {
   "cell_type": "code",
   "execution_count": 42,
   "metadata": {},
   "outputs": [
    {
     "data": {
      "text/plain": [
       "Index(['HRR', 'Total Hospital Beds', 'Total ICU Beds',\n",
       "       'Available Hospital Beds', 'Potentially Available Hospital Beds',\n",
       "       'Available ICU Beds', 'Potentially Available ICU Beds',\n",
       "       'Adult Population', 'Population 65+', 'Projected Infected Individuals',\n",
       "       'Projected Hospitalized Individuals',\n",
       "       'Projected Individuals Needing ICU Care'],\n",
       "      dtype='object')"
      ]
     },
     "execution_count": 42,
     "metadata": {},
     "output_type": "execute_result"
    }
   ],
   "source": [
    "df.columns\n"
   ]
  },
  {
   "cell_type": "code",
   "execution_count": 43,
   "metadata": {},
   "outputs": [
    {
     "data": {
      "text/plain": [
       "HRR                                        object\n",
       "Total Hospital Beds                       float64\n",
       "Total ICU Beds                            float64\n",
       "Available Hospital Beds                   float64\n",
       "Potentially Available Hospital Beds       float64\n",
       "Available ICU Beds                        float64\n",
       "Potentially Available ICU Beds            float64\n",
       "Adult Population                          float64\n",
       "Population 65+                            float64\n",
       "Projected Infected Individuals            float64\n",
       "Projected Hospitalized Individuals        float64\n",
       "Projected Individuals Needing ICU Care    float64\n",
       "dtype: object"
      ]
     },
     "execution_count": 43,
     "metadata": {},
     "output_type": "execute_result"
    }
   ],
   "source": [
    "df.dtypes"
   ]
  },
  {
   "cell_type": "code",
   "execution_count": 45,
   "metadata": {},
   "outputs": [
    {
     "data": {
      "text/plain": [
       "HRR                                       0\n",
       "Total Hospital Beds                       0\n",
       "Total ICU Beds                            0\n",
       "Available Hospital Beds                   0\n",
       "Potentially Available Hospital Beds       0\n",
       "Available ICU Beds                        0\n",
       "Potentially Available ICU Beds            0\n",
       "Adult Population                          0\n",
       "Population 65+                            0\n",
       "Projected Infected Individuals            0\n",
       "Projected Hospitalized Individuals        0\n",
       "Projected Individuals Needing ICU Care    0\n",
       "dtype: int64"
      ]
     },
     "execution_count": 45,
     "metadata": {},
     "output_type": "execute_result"
    }
   ],
   "source": [
    "df.isnull().sum()"
   ]
  },
  {
   "cell_type": "code",
   "execution_count": 68,
   "metadata": {},
   "outputs": [
    {
     "data": {
      "text/plain": [
       "<seaborn.axisgrid.FacetGrid at 0x1e6e7c91bc8>"
      ]
     },
     "execution_count": 68,
     "metadata": {},
     "output_type": "execute_result"
    },
    {
     "data": {
      "image/png": "[encoded data removed]",
      "text/plain": [
       "<Figure size 504x504 with 1 Axes>"
      ]
     },
     "metadata": {
      "needs_background": "light"
     },
     "output_type": "display_data"
    }
   ],
   "source": [
    "sns.relplot('Projected Infected Individuals', 'Available Hospital Beds', data = df, height = 7)\n",
    "#this plot shows the need of the beds sa the covid patients will increase "
   ]
  },
  {
   "cell_type": "code",
   "execution_count": 67,
   "metadata": {},
   "outputs": [
    {
     "data": {
      "text/plain": [
       "Index(['HRR', 'Total Hospital Beds', 'Total ICU Beds',\n",
       "       'Available Hospital Beds', 'Potentially Available Hospital Beds',\n",
       "       'Available ICU Beds', 'Potentially Available ICU Beds',\n",
       "       'Adult Population', 'Population 65+', 'Projected Infected Individuals',\n",
       "       'Projected Hospitalized Individuals',\n",
       "       'Projected Individuals Needing ICU Care'],\n",
       "      dtype='object')"
      ]
     },
     "execution_count": 67,
     "metadata": {},
     "output_type": "execute_result"
    }
   ],
   "source": [
    "df.columns"
   ]
  },
  {
   "cell_type": "code",
   "execution_count": 70,
   "metadata": {},
   "outputs": [
    {
     "data": {
      "text/plain": [
       "<seaborn.axisgrid.FacetGrid at 0x1e6e02b3188>"
      ]
     },
     "execution_count": 70,
     "metadata": {},
     "output_type": "execute_result"
    },
    {
     "data": {
      "image/png": "[encoded data removed]",
      "text/plain": [
       "<Figure size 504x504 with 1 Axes>"
      ]
     },
     "metadata": {
      "needs_background": "light"
     },
     "output_type": "display_data"
    }
   ],
   "source": [
    "sns.relplot('Population 65+', 'Projected Infected Individuals', data = df, height = 7)\n",
    "# as the population in any place increases the number of infected people also increases"
   ]
  },
  {
   "cell_type": "code",
   "execution_count": 71,
   "metadata": {
    "scrolled": true
   },
   "outputs": [
    {
     "data": {
      "text/plain": [
       "<seaborn.axisgrid.FacetGrid at 0x1e6e462adc8>"
      ]
     },
     "execution_count": 71,
     "metadata": {},
     "output_type": "execute_result"
    },
    {
     "data": {
      "image/png": "[encoded data removed]",
      "text/plain": [
       "<Figure size 504x504 with 1 Axes>"
      ]
     },
     "metadata": {
      "needs_background": "light"
     },
     "output_type": "display_data"
    }
   ],
   "source": [
    "sns.relplot('Available ICU Beds', 'Projected Individuals Needing ICU Care', data = df, height = 7)\n",
    "# this shows that the need of ICU beds are moer than the available ICU beds, we need to get more of these"
   ]
  },
  {
   "cell_type": "code",
   "execution_count": 72,
   "metadata": {
    "scrolled": true
   },
   "outputs": [
    {
     "data": {
      "text/plain": [
       "<seaborn.axisgrid.FacetGrid at 0x1e6e067dc48>"
      ]
     },
     "execution_count": 72,
     "metadata": {},
     "output_type": "execute_result"
    },
    {
     "data": {
      "image/png": "[encoded data removed]",
      "text/plain": [
       "<Figure size 504x504 with 1 Axes>"
      ]
     },
     "metadata": {
      "needs_background": "light"
     },
     "output_type": "display_data"
    }
   ],
   "source": [
    "sns.relplot('Adult Population', 'Projected Infected Individuals', data = df, height = 7)\n",
    "\n",
    "#shows that as the adult population increases the number of infected people also increases."
   ]
  },
  {
   "cell_type": "code",
   "execution_count": 87,
   "metadata": {},
   "outputs": [
    {
     "data": {
      "text/plain": [
       "305"
      ]
     },
     "execution_count": 87,
     "metadata": {},
     "output_type": "execute_result"
    }
   ],
   "source": [
    "#now as we can see population65+ and adult population are directly related to the total infected individual we can now form a prediction\n",
    "X = df[['Adult Population', 'Population 65+']].values\n",
    "len(X)"
   ]
  },
  {
   "cell_type": "code",
   "execution_count": 82,
   "metadata": {},
   "outputs": [
    {
     "data": {
      "text/plain": [
       "array([ 45289., 109598., 262038.,  31429., 295545., 267359.,  44319.,\n",
       "       192114.,  46912.,  66534.])"
      ]
     },
     "execution_count": 82,
     "metadata": {},
     "output_type": "execute_result"
    }
   ],
   "source": [
    "y = df['Projected Infected Individuals'].values\n",
    "y[:10]"
   ]
  },
  {
   "cell_type": "code",
   "execution_count": 83,
   "metadata": {},
   "outputs": [],
   "source": [
    "from sklearn.model_selection import train_test_split"
   ]
  },
  {
   "cell_type": "code",
   "execution_count": 84,
   "metadata": {},
   "outputs": [],
   "source": [
    "X_train, X_test, y_train, y_test = train_test_split(X, y, test_size = .3)\n"
   ]
  },
  {
   "cell_type": "code",
   "execution_count": 85,
   "metadata": {},
   "outputs": [
    {
     "data": {
      "text/plain": [
       "213"
      ]
     },
     "execution_count": 85,
     "metadata": {},
     "output_type": "execute_result"
    }
   ],
   "source": [
    "len(X_train)"
   ]
  },
  {
   "cell_type": "code",
   "execution_count": 88,
   "metadata": {},
   "outputs": [],
   "source": [
    "from sklearn.linear_model import LinearRegression"
   ]
  },
  {
   "cell_type": "code",
   "execution_count": 89,
   "metadata": {},
   "outputs": [],
   "source": [
    "model = LinearRegression()"
   ]
  },
  {
   "cell_type": "code",
   "execution_count": 90,
   "metadata": {},
   "outputs": [
    {
     "data": {
      "text/plain": [
       "LinearRegression(copy_X=True, fit_intercept=True, n_jobs=None, normalize=False)"
      ]
     },
     "execution_count": 90,
     "metadata": {},
     "output_type": "execute_result"
    }
   ],
   "source": [
    "model.fit(X_train, y_train)"
   ]
  },
  {
   "cell_type": "code",
   "execution_count": 92,
   "metadata": {},
   "outputs": [
    {
     "data": {
      "text/plain": [
       "0.9999999999968004"
      ]
     },
     "execution_count": 92,
     "metadata": {},
     "output_type": "execute_result"
    }
   ],
   "source": [
    "model.score(X_test, y_test)"
   ]
  },
  {
   "cell_type": "code",
   "execution_count": null,
   "metadata": {},
   "outputs": [],
   "source": []
  }
 ],
 "metadata": {
  "kernelspec": {
   "display_name": "Python 3",
   "language": "python",
   "name": "python3"
  },
  "language_info": {
   "codemirror_mode": {
    "name": "ipython",
    "version": 3
   },
   "file_extension": ".py",
   "mimetype": "text/x-python",
   "name": "python",
   "nbconvert_exporter": "python",
   "pygments_lexer": "ipython3",
   "version": "3.7.6"
  }
 },
 "nbformat": 4,
 "nbformat_minor": 4
}
